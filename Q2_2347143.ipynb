{
 "cells": [
  {
   "cell_type": "markdown",
   "metadata": {},
   "source": [
    "As on Date 02/08/2023, Wednesday (9-11AM)\n",
    "\n",
    "Q2: Demonstrate Lists and Dictionary comprehensions\n",
    "\n",
    "Faculty Assigned: Qubert Sir"
   ]
  },
  {
   "cell_type": "markdown",
   "metadata": {},
   "source": [
    "1. LIST\n",
    "Write a PYTHON script with List comprehension for the following\n"
   ]
  },
  {
   "cell_type": "code",
   "execution_count": 9,
   "metadata": {},
   "outputs": [
    {
     "name": "stdout",
     "output_type": "stream",
     "text": [
      "The total number of ordered quantity divisible by 3 is:  6 .\n",
      " List values:  [6, 30, 45, 36, 3, 18]\n"
     ]
    }
   ],
   "source": [
    "# 1) Is the given list divisible by 3 or NOT?\n",
    "newlist = []\n",
    "counter = 0\n",
    "ordered_quantity = [6,10,30,45,17,36,43,3,18]\n",
    "for x in ordered_quantity:\n",
    "    if x%3 == 0:\n",
    "        counter +=1\n",
    "        newlist.append(x)\n",
    "\n",
    "print(\"The total number of ordered quantity divisible by 3 is: \", counter,\".\\nList values: \", newlist)\n"
   ]
  },
  {
   "cell_type": "code",
   "execution_count": 10,
   "metadata": {},
   "outputs": [
    {
     "name": "stdout",
     "output_type": "stream",
     "text": [
      "The total number of ordered quantity divisible by 2 is:  5 .\n",
      "List values:  [36, 100, 900, 1296, 324]\n"
     ]
    }
   ],
   "source": [
    "# 2) Square of even numbers in a list\n",
    "\n",
    "squared_list = []\n",
    "counter = 0\n",
    "for x in ordered_quantity:\n",
    "    if x%2 == 0:\n",
    "        counter +=1\n",
    "        squared_list.append(x**2)\n",
    "\n",
    "print(\"The total number of ordered quantity divisible by 2 is: \", counter,\".\\nList values: \", squared_list)\n"
   ]
  },
  {
   "cell_type": "code",
   "execution_count": 14,
   "metadata": {},
   "outputs": [
    {
     "name": "stdout",
     "output_type": "stream",
     "text": [
      "The sum of 5 even ordered quantity is:  100\n"
     ]
    }
   ],
   "source": [
    "# 3) Sum of digits of all EVEN numbers in a list\n",
    "\n",
    "s=0\n",
    "counter = 0\n",
    "for x in ordered_quantity:\n",
    "    if x%2 == 0:\n",
    "        counter +=1\n",
    "        s = s + x\n",
    "\n",
    "print(\"The sum of\",counter,\"even ordered quantity is: \", s) "
   ]
  },
  {
   "cell_type": "code",
   "execution_count": 15,
   "metadata": {},
   "outputs": [
    {
     "name": "stdout",
     "output_type": "stream",
     "text": [
      "Unique quantity of items ordered:  [6, 10, 30, 45, 17, 18, 36, 43, 3]\n",
      "Repeated quantity of items ordered:  [6, 30, 17, 18]\n"
     ]
    }
   ],
   "source": [
    "# 4) Remove duplicate numbers in a list\n",
    "\n",
    "unique_quantity = []\n",
    "ordered_quantity = [6,10,30,45,17,6,30,18,17,36,43,3,18]\n",
    "repeated_quantity =[]\n",
    "for x in ordered_quantity:\n",
    "    if x not in unique_quantity:\n",
    "        unique_quantity.append(x)\n",
    "    else:\n",
    "        repeated_quantity.append(x)\n",
    "\n",
    "\n",
    "print(\"Unique quantity of items ordered: \",unique_quantity)\n",
    "print(\"Repeated quantity of items ordered: \",repeated_quantity)\n",
    "\n",
    "\n",
    "\n"
   ]
  },
  {
   "cell_type": "markdown",
   "metadata": {},
   "source": [
    "2. Dictionary\n",
    "\n",
    "Create a dictionary to store the details of your company employees (name as key and\n",
    "birthdate as value).\n",
    "\n",
    "Write a function birthDate() that takes the full name of your employees(as a string) and\n",
    "displays the given employee’s birthdate."
   ]
  },
  {
   "cell_type": "code",
   "execution_count": 1,
   "metadata": {},
   "outputs": [
    {
     "name": "stdout",
     "output_type": "stream",
     "text": [
      "Rishita  not found in our database. Try again!\n",
      "Rishita KApoor  not found in our database. Try again!\n",
      "Rishita Kapoor  was hired on:  9 July 2022\n"
     ]
    }
   ],
   "source": [
    "#Program implemented for hiring dates of the bakery employees instead of birthdates.\n",
    "\n",
    "bakery_emplopyee_details = {\n",
    "    'Rishita Kapoor' : '9 July 2022',\n",
    "    'Kavita Kamdar' :  '29 September 2021',\n",
    "    'Ojus Shah' : '24 September 2023',\n",
    "    'Jyoti Selarka' : '24 November 2022',\n",
    "    'Manan Kumar' : '27 May 2021'\n",
    "}\n",
    "\n",
    "def hiringDate():\n",
    "\n",
    "    emp_nameList = bakery_emplopyee_details.keys()\n",
    "\n",
    "    emp_name  = input(\"Enter the full name of bakery employee to find their hiring date:  \")\n",
    "    if emp_name in emp_nameList:\n",
    "        print(emp_name,\" was hired on: \",bakery_emplopyee_details[emp_name])\n",
    "    else: \n",
    "        print(emp_name,\" not found in our database. Try again!\")\n",
    "\n",
    "hiringDate()\n",
    "hiringDate()\n",
    "hiringDate()\n"
   ]
  },
  {
   "cell_type": "code",
   "execution_count": null,
   "metadata": {},
   "outputs": [],
   "source": []
  }
 ],
 "metadata": {
  "kernelspec": {
   "display_name": "Python 3",
   "language": "python",
   "name": "python3"
  },
  "language_info": {
   "codemirror_mode": {
    "name": "ipython",
    "version": 3
   },
   "file_extension": ".py",
   "mimetype": "text/x-python",
   "name": "python",
   "nbconvert_exporter": "python",
   "pygments_lexer": "ipython3",
   "version": "3.11.4"
  },
  "orig_nbformat": 4
 },
 "nbformat": 4,
 "nbformat_minor": 2
}
